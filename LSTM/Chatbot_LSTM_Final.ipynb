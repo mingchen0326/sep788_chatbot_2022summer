{
 "cells": [
  {
   "cell_type": "code",
   "execution_count": null,
   "metadata": {
    "colab": {
     "base_uri": "https://localhost:8080/",
     "height": 450
    },
    "id": "ntwt2gOMB6VO",
    "outputId": "0ca33612-cb95-477d-b3aa-6471d2473773"
   },
   "outputs": [
    {
     "ename": "",
     "evalue": "",
     "output_type": "error",
     "traceback": [
      "\u001b[1;31mRunning cells with 'Python 3.9.1 64-bit' requires ipykernel package.\n",
      "Run the following command to install 'ipykernel' into the Python environment. \n",
      "Command: '\"c:/Program Files/Python39/python.exe\" -m pip install ipykernel -U --user --force-reinstall'"
     ]
    }
   ],
   "source": [
    "import tensorflow as tf\n",
    "import numpy as np\n",
    "import pandas as pd\n",
    "from keras.preprocessing.text import Tokenizer\n",
    "from keras_preprocessing.sequence import pad_sequences \n",
    "#if not work, use the import command in below comments\n",
    "from keras.preprocessing.sequence import pad_sequences\n",
    "from tensorflow.python.keras import layers\n",
    "from tensorflow.python.keras import models\n",
    "from sklearn.preprocessing import LabelEncoder\n",
    "import matplotlib as plt\n",
    "from matplotlib import pyplot\n",
    "\n",
    "# preprocessing the data: remove the punctuation, which has been done by HongTing Zhou\n",
    "# Read training data and extract question column and answer column\n",
    "# may need change the import dir\n",
    "data1 = pd.read_csv(r\"Dataset\\train_df.csv\")\n",
    "data_val = pd.read_csv(r\"Dataset\\eval_df.csv\")\n",
    "data = pd.concat([data1, data_val])\n",
    "#data = pd.read_csv(r\"train_df.csv\")\n",
    "question = data.Question\n",
    "answer = data.Answer\n",
    "data.ArticleTitle.fillna(\"empty\", inplace=True)\n",
    "\n",
    "\n",
    "# Tokenizing the sentence, which means break sentence into individual word,\n",
    "# machine does not understand text, only numbers.\n",
    "# such as: How are you, tokenize into [\"How\", \"are\", \"you\"]\n",
    "# Thus, after tokenizing the text, we need to encode the text into numbers\n",
    "# nltk also has the tokenizing feature, the code is nltk.word_tokenize()\n",
    "tokenizer = Tokenizer(num_words=2000)\n",
    "tokenizer.fit_on_texts(question)\n",
    "tokenized_question = tokenizer.texts_to_sequences(question)\n",
    "\n",
    "# applying padding to have consiste column size in each\n",
    "padded_question = pad_sequences(tokenized_question)\n",
    "\n",
    "# so convert text y to numerical y\n",
    "skl_encoder = LabelEncoder()\n",
    "encoded_answer = skl_encoder.fit_transform(answer)\n",
    "\n",
    "\n",
    "input_shape = padded_question.shape[1]\n",
    "\n",
    "# determine nunber of unique words \n",
    "num_unique_words = len(tokenizer.word_index)\n",
    "\n",
    "\n",
    "#determine encoded answer length\n",
    "output_length = skl_encoder.classes_.shape[0]\n",
    "\n",
    "\n",
    "# Build the model using LSTM\n",
    "encoder_input = layers.Input(shape=(input_shape,))\n",
    "encoder_embedding = layers.Embedding(num_unique_words+1, 15)(encoder_input)\n",
    "encoder_LSTM = layers.LSTM(20, dropout=0.5, return_sequences=True)(encoder_embedding)\n",
    "encoder_flatten = layers.Flatten()(encoder_LSTM)\n",
    "encoder_output = layers.Dense(num_unique_words+1, activation=\"softmax\")(encoder_flatten)\n",
    "model = models.Model(encoder_input, encoder_output)\n",
    "model.compile(loss=\"sparse_categorical_crossentropy\", optimizer=\"adam\", metrics=['accuracy'])\n",
    "trained_model = model.fit(padded_question, encoded_answer, epochs=100, validation_split=0.2)\n",
    "\n"
   ]
  },
  {
   "cell_type": "code",
   "execution_count": 10,
   "metadata": {},
   "outputs": [
    {
     "data": {
      "image/png": "[encoded data removed]",
      "text/plain": [
       "<Figure size 432x288 with 1 Axes>"
      ]
     },
     "metadata": {
      "needs_background": "light"
     },
     "output_type": "display_data"
    }
   ],
   "source": [
    "#plot the loss\n",
    "\n",
    "plt.pyplot.plot(trained_model.history[\"loss\"], label=\"loss at training stage\")\n",
    "plt.pyplot.plot(trained_model.history[\"val_loss\"], label=\"loss at validation stage\")\n",
    "plt.pyplot.xlabel('iters')\n",
    "plt.pyplot.ylabel('loss')\n",
    "plt.pyplot.legend()\n",
    "\n",
    "plt.pyplot.savefig(r'LSTM loss.png',dpi=600,bbox_inches = 'tight') # may need change the export path"
   ]
  },
  {
   "cell_type": "code",
   "execution_count": 3,
   "metadata": {},
   "outputs": [
    {
     "name": "stdout",
     "output_type": "stream",
     "text": [
      "yes they do tend to have darker furs\n"
     ]
    }
   ],
   "source": [
    "# test the model by ask new answers\n",
    "\n",
    "def get_answer(q):\n",
    "\n",
    "  # getting response from testing data\n",
    "  question_input = [q]\n",
    "\n",
    "  # tokenize the question and encoded it\n",
    "  tokenized_input = tokenizer.texts_to_sequences(question_input)\n",
    "  paddedded_question_input = pad_sequences(tokenized_input, input_shape)\n",
    "  prediction_input = np.array(paddedded_question_input)\n",
    "  output = model.predict(prediction_input)\n",
    "  output = output.argmax()\n",
    "  out_answer = skl_encoder.inverse_transform([output])\n",
    "\n",
    "  return out_answer[0]\n",
    "\n",
    "q = \"does londons population draw from a wide range of religions\"\n",
    "a = get_answer(q)\n",
    "print(a)"
   ]
  },
  {
   "cell_type": "code",
   "execution_count": 6,
   "metadata": {},
   "outputs": [
    {
     "name": "stdout",
     "output_type": "stream",
     "text": [
      "                                              Question  \\\n",
      "0    did singapores standard of living decrease sin...   \n",
      "1                      did the mughals arrive in dhaka   \n",
      "2                who did cleveland run against in 1884   \n",
      "3                  what is the biggest city in finland   \n",
      "4    how many days did it take the imperial japanes...   \n",
      "..                                                 ...   \n",
      "439                      did wilsons father own slaves   \n",
      "440            are gray wolves native to north america   \n",
      "441          in what country did fox hunting originate   \n",
      "442             what is the cause of local earthquakes   \n",
      "443      he discovered an inverse relationship of what   \n",
      "\n",
      "                                                Answer  \\\n",
      "0                                                   no   \n",
      "1                                                  yes   \n",
      "2                                       james g blaine   \n",
      "3                                     greater helsinki   \n",
      "4                                               6 days   \n",
      "..                                                 ...   \n",
      "439                                               yeah   \n",
      "440                                                yes   \n",
      "441                              in the united kingdom   \n",
      "442  it was the san andreas fault which slipped and...   \n",
      "443                        distance and electric force   \n",
      "\n",
      "                                     Predictive Answer  \n",
      "0                    no the standard living was raised  \n",
      "1                                                   no  \n",
      "2               former senator james g blaine of maine  \n",
      "3    the cities of the greater helsinki metropolita...  \n",
      "4                                             six days  \n",
      "..                                                 ...  \n",
      "439                                                yes  \n",
      "440                                                 no  \n",
      "441                                 the united kingdom  \n",
      "442                                            1161063  \n",
      "443                        founder and first president  \n",
      "\n",
      "[444 rows x 3 columns]\n"
     ]
    }
   ],
   "source": [
    "# export the test result\n",
    "test_data = pd.read_csv(r\"Dataset\\test_df.csv\")\n",
    "test_question = test_data.Question\n",
    "test_answer = test_data.Answer\n",
    "predicted_answer = []\n",
    "for i, q in test_question.items():\n",
    "  a = get_answer(q)\n",
    "  predicted_answer.append(a)\n",
    "\n",
    "predicted_answer = pd.DataFrame(predicted_answer, columns=[\"Predictive Answer\"])\n",
    "\n",
    "to_csv = pd.concat([test_question, test_answer, predicted_answer], axis=1)\n",
    "# print(to_csv)\n",
    "print(to_csv)\n",
    "to_csv.to_csv(r\"LSTM_output.csv\")"
   ]
  },
  {
   "cell_type": "code",
   "execution_count": null,
   "metadata": {},
   "outputs": [],
   "source": []
  }
 ],
 "metadata": {
  "colab": {
   "name": "Chatbot_Final.ipynb",
   "provenance": []
  },
  "kernelspec": {
   "display_name": "Python 3.9.1 64-bit",
   "language": "python",
   "name": "python3"
  },
  "language_info": {
   "codemirror_mode": {
    "name": "ipython",
    "version": 3
   },
   "file_extension": ".py",
   "mimetype": "text/x-python",
   "name": "python",
   "nbconvert_exporter": "python",
   "pygments_lexer": "ipython3",
   "version": "3.9.1"
  },
  "vscode": {
   "interpreter": {
    "hash": "11938c6bc6919ae2720b4d5011047913343b08a43b18698fd82dedb0d4417594"
   }
  }
 },
 "nbformat": 4,
 "nbformat_minor": 1
}
